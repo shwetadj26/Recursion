{
  "nbformat": 4,
  "nbformat_minor": 0,
  "metadata": {
    "colab": {
      "provenance": []
    },
    "kernelspec": {
      "name": "python3",
      "display_name": "Python 3"
    },
    "language_info": {
      "name": "python"
    }
  },
  "cells": [
    {
      "cell_type": "markdown",
      "source": [
        "<aside>\n",
        "💡 **Question 1**\n",
        "\n",
        "Given an integer `n`, return *`true` if it is a power of three. Otherwise, return `false`*.\n",
        "\n",
        "An integer `n` is a power of three, if there exists an integer `x` such that `n == 3x`.\n",
        "\n",
        "**Example 1:**\n",
        "\n",
        "```\n",
        "Input: n = 27\n",
        "Output: true\n",
        "Explanation: 27 = 33\n",
        "```\n",
        "\n",
        "**Example 2:**\n",
        "\n",
        "```\n",
        "Input: n = 0\n",
        "Output: false\n",
        "Explanation: There is no x where 3x = 0.\n",
        "\n",
        "```\n",
        "\n",
        "**Example 3:**\n",
        "\n",
        "Input: n = -1\n",
        "Output: false\n",
        "Explanation: There is no x where 3x = (-1).\n",
        "\n",
        "</aside>"
      ],
      "metadata": {
        "id": "sm1sjDJ4fVL7"
      }
    },
    {
      "cell_type": "code",
      "execution_count": 9,
      "metadata": {
        "colab": {
          "base_uri": "https://localhost:8080/"
        },
        "id": "mHLkwn2JfIt7",
        "outputId": "56c8d502-22fd-4fb0-bfb6-dc49004d8602"
      },
      "outputs": [
        {
          "output_type": "stream",
          "name": "stdout",
          "text": [
            "True\n"
          ]
        }
      ],
      "source": [
        "def power3(n):\n",
        "    if n <= 0:\n",
        "        return False\n",
        "    while n % 3 == 0:\n",
        "        n /= 3\n",
        "    return n == 1\n",
        "\n",
        "\n",
        "print(power3(27))  \n",
        "\n"
      ]
    },
    {
      "cell_type": "markdown",
      "source": [
        "<aside>\n",
        "💡 **Question 2**\n",
        "\n",
        "You have a list `arr` of all integers in the range `[1, n]` sorted in a strictly increasing order. Apply the following algorithm on `arr`:\n",
        "\n",
        "- Starting from left to right, remove the first number and every other number afterward until you reach the end of the list.\n",
        "- Repeat the previous step again, but this time from right to left, remove the rightmost number and every other number from the remaining numbers.\n",
        "- Keep repeating the steps again, alternating left to right and right to left, until a single number remains.\n",
        "\n",
        "Given the integer `n`, return *the last number that remains in* `arr`.\n",
        "\n",
        "**Example 1:**\n",
        "\n",
        "```\n",
        "Input: n = 9\n",
        "Output: 6\n",
        "Explanation:\n",
        "arr = [1, 2,3, 4,5, 6,7, 8,9]\n",
        "arr = [2,4, 6,8]\n",
        "arr = [2, 6]\n",
        "arr = [6]\n",
        "\n",
        "```\n",
        "\n",
        "**Example 2:**\n",
        "Input: n = 1\n",
        "Output: 1\n",
        "\n",
        "</aside>"
      ],
      "metadata": {
        "id": "AEx0cYHUfo0l"
      }
    },
    {
      "cell_type": "code",
      "source": [
        "def remaining(n):\n",
        "    arr = list(range(1, n+1))\n",
        "    left_to_right = True\n",
        "\n",
        "    while len(arr) > 1:\n",
        "        if left_to_right:\n",
        "            arr = arr[1::2]\n",
        "        else:\n",
        "            arr = arr[-2::-2]\n",
        "        left_to_right = not left_to_right\n",
        "\n",
        "    return arr[0]\n",
        "\n",
        "\n",
        "\n",
        "print(remaining(1))  # Output: 1\n"
      ],
      "metadata": {
        "colab": {
          "base_uri": "https://localhost:8080/"
        },
        "id": "M2MUrFpWftny",
        "outputId": "059dd271-6ba9-484f-af4e-439a41d7c854"
      },
      "execution_count": 12,
      "outputs": [
        {
          "output_type": "stream",
          "name": "stdout",
          "text": [
            "1\n"
          ]
        }
      ]
    },
    {
      "cell_type": "markdown",
      "source": [
        "<aside>\n",
        " **Question 3**\n",
        "\n",
        "****Given a set represented as a string, write a recursive code to print all subsets of it. The subsets can be printed in any order.\n",
        "\n",
        "**Example 1:**\n",
        "\n",
        "Input :  set = “abc”\n",
        "\n",
        "Output : { “”, “a”, “b”, “c”, “ab”, “ac”, “bc”, “abc”}\n",
        "\n",
        "**Example 2:**\n",
        "\n",
        "Input : set = “abcd”\n",
        "\n",
        "Output : { “”, “a” ,”ab” ,”abc” ,”abcd”, “abd” ,”ac” ,”acd”, “ad” ,”b”, “bc” ,”bcd” ,”bd” ,”c” ,”cd” ,”d” }\n",
        "\n",
        "</aside>"
      ],
      "metadata": {
        "id": "ZRXX0aWgf2bI"
      }
    },
    {
      "cell_type": "code",
      "source": [
        "def subsets(set_str):\n",
        "    subsets = []\n",
        "    generate_subsets(set_str, \"\", 0, subsets)\n",
        "    return subsets\n",
        "\n",
        "def generate_subsets(set_str, current_subset, index, subsets):\n",
        "    if index == len(set_str):\n",
        "        subsets.append(current_subset)\n",
        "        return\n",
        "\n",
        "    generate_subsets(set_str, current_subset + set_str[index], index + 1, subsets)\n",
        "\n",
        "   \n",
        "    generate_subsets(set_str, current_subset, index + 1, subsets)\n",
        "\n",
        "\n",
        "print(subsets(\"abcd\"))  \n"
      ],
      "metadata": {
        "colab": {
          "base_uri": "https://localhost:8080/"
        },
        "id": "KqFh3pUIf5Yh",
        "outputId": "3210ab85-b2a8-468d-e677-68c1794e403b"
      },
      "execution_count": 13,
      "outputs": [
        {
          "output_type": "stream",
          "name": "stdout",
          "text": [
            "['abcd', 'abc', 'abd', 'ab', 'acd', 'ac', 'ad', 'a', 'bcd', 'bc', 'bd', 'b', 'cd', 'c', 'd', '']\n"
          ]
        }
      ]
    },
    {
      "cell_type": "markdown",
      "source": [
        "<aside>\n",
        "💡 **Question 4**\n",
        "\n",
        "Given a string calculate length of the string using recursion.\n",
        "\n",
        "**Examples:**\n",
        "Input : str = \"abcd\"\n",
        "Output :4\n",
        "\n",
        "Input : str = \"GEEKSFORGEEKS\"\n",
        "Output :13\n",
        "\n",
        "</aside>"
      ],
      "metadata": {
        "id": "jwyvFo0WgCWG"
      }
    },
    {
      "cell_type": "code",
      "source": [
        "def cal_length(string):\n",
        "    if string == \"\":\n",
        "        return 0\n",
        "    else:\n",
        "        return 1 + cal_length(string[1:])\n",
        "\n",
        "\n",
        "print(cal_length(\"Hello\"))  \n",
        "\n",
        "print(cal_length(\"abcde\"))  \n"
      ],
      "metadata": {
        "colab": {
          "base_uri": "https://localhost:8080/"
        },
        "id": "XQitj_1-gLCq",
        "outputId": "c2384014-9c35-4889-f9ce-fd4d6d9369b1"
      },
      "execution_count": 14,
      "outputs": [
        {
          "output_type": "stream",
          "name": "stdout",
          "text": [
            "5\n",
            "5\n"
          ]
        }
      ]
    },
    {
      "cell_type": "markdown",
      "source": [
        "<aside>\n",
        "💡 **Question 5**\n",
        "\n",
        "We are given a string S, we need to find count of all contiguous substrings starting and ending with same character.\n",
        "\n",
        "Input  : S = \"abcab\"\n",
        "Output : 7\n",
        "There are 15 substrings of \"abcab\"\n",
        "a, ab, abc, abca, abcab, b, bc, bca\n",
        "bcab, c, ca, cab, a, ab, b\n",
        "Out of the above substrings, there\n",
        "are 7 substrings : a, abca, b, bcab,\n",
        "c, a and b.\n",
        "\n",
        "Input  : S = \"aba\"\n",
        "Output : 4\n",
        "The substrings are a, b, a and aba\n",
        "\n",
        "</aside>"
      ],
      "metadata": {
        "id": "PEY3R6r4gQQ_"
      }
    },
    {
      "cell_type": "code",
      "source": [
        "def count_substrings(string):\n",
        "    count = 0\n",
        "    n = len(string)\n",
        "\n",
        "    \n",
        "    for i in range(n):\n",
        "      \n",
        "        count += 1\n",
        "\n",
        "      \n",
        "        left = i - 1\n",
        "        right = i + 1\n",
        "\n",
        "       \n",
        "        while left >= 0 and right < n and string[left] == string[right]:\n",
        "            count += 1\n",
        "            left -= 1\n",
        "            right += 1\n",
        "\n",
        "    return count\n",
        "\n",
        "\n",
        "print(count_substrings(\"abcab\"))  \n",
        "print(count_substrings(\"aba\"))    \n"
      ],
      "metadata": {
        "colab": {
          "base_uri": "https://localhost:8080/"
        },
        "id": "u02_7ek_ghgK",
        "outputId": "4a8e5ad0-9292-404e-cc36-901549180bc4"
      },
      "execution_count": 5,
      "outputs": [
        {
          "output_type": "stream",
          "name": "stdout",
          "text": [
            "5\n",
            "4\n"
          ]
        }
      ]
    },
    {
      "cell_type": "markdown",
      "source": [
        "The [tower of Hanoi](https://en.wikipedia.org/wiki/Tower_of_Hanoi) is a famous puzzle where we have three rods and **N** disks. The objective of the puzzle is to move the entire stack to another rod. You are given the number of discs **N**. Initially, these discs are in the rod 1. You need to print all the steps of discs movement so that all the discs reach the 3rd rod. Also, you need to find the total moves.**Note:** The discs are arranged such that the **top disc is numbered 1** and the **bottom-most disc is numbered N**. Also, all the discs have **different sizes** and a bigger disc **cannot** be put on the top of a smaller disc. Refer the provided link to get a better clarity about the puzzle.\n",
        "\n",
        "**Example 1:**\n",
        "Input:\n",
        "N = 2\n",
        "Output:\n",
        "move disk 1 from rod 1 to rod 2\n",
        "move disk 2 from rod 1 to rod 3\n",
        "move disk 1 from rod 2 to rod 3\n",
        "3\n",
        "Explanation:For N=2 , steps will be\n",
        "as follows in the example and total\n",
        "3 steps will be taken.\n",
        "\n",
        "Example 2:\n",
        "Input:\n",
        "N = 3\n",
        "Output:\n",
        "move disk 1 from rod 1 to rod 3\n",
        "move disk 2 from rod 1 to rod 2\n",
        "move disk 1 from rod 3 to rod 2\n",
        "move disk 3 from rod 1 to rod 3\n",
        "move disk 1 from rod 2 to rod 1\n",
        "move disk 2 from rod 2 to rod 3\n",
        "move disk 1 from rod 1 to rod 3\n",
        "7\n",
        "Explanation:For N=3 , steps will be\n",
        "as follows in the example and total\n",
        "7 steps will be taken."
      ],
      "metadata": {
        "id": "lhn1-aENhDXR"
      }
    },
    {
      "cell_type": "code",
      "source": [
        "def tower(n, source, destination, auxiliary):\n",
        "    if n == 1:\n",
        "        print(\"Move disk 1 from rod\", source, \"to rod\", destination)\n",
        "        return 1\n",
        "\n",
        "    moves = 0\n",
        "\n",
        "    moves += tower(n-1, source, auxiliary, destination)\n",
        "    print(\"Move disk\", n, \"from rod\", source, \"to rod\", destination)\n",
        "    moves += 1\n",
        "    moves += tower(n-1, auxiliary, destination, source)\n",
        "\n",
        "    return moves\n",
        "\n",
        "\n",
        "N = 2\n",
        "total_moves = tower(N, 1, 3, 2)\n",
        "print(\"Total moves:\", total_moves)\n"
      ],
      "metadata": {
        "colab": {
          "base_uri": "https://localhost:8080/"
        },
        "id": "NEWkBPHyhOx6",
        "outputId": "f9c5585a-d0ae-4af5-d3e0-e146f4ba942a"
      },
      "execution_count": 6,
      "outputs": [
        {
          "output_type": "stream",
          "name": "stdout",
          "text": [
            "Move disk 1 from rod 1 to rod 2\n",
            "Move disk 2 from rod 1 to rod 3\n",
            "Move disk 1 from rod 2 to rod 3\n",
            "Total moves: 3\n"
          ]
        }
      ]
    },
    {
      "cell_type": "markdown",
      "source": [
        "<aside>\n",
        "💡 **Question 7**\n",
        "\n",
        "Given a string **str**, the task is to print all the permutations of **str**. A **permutation** is an arrangement of all or part of a set of objects, with regard to the order of the arrangement. For instance, the words ‘bat’ and ‘tab’ represents two distinct permutation (or arrangements) of a similar three letter word.\n",
        "\n",
        "**Examples:**\n",
        "\n",
        "> Input: str = “cd”\n",
        "> \n",
        "> \n",
        "> **Output:** cd dc\n",
        "> \n",
        "> **Input:** str = “abb”\n",
        "> \n",
        "> **Output:** abb abb bab bba bab bba\n",
        "> \n",
        "</aside>"
      ],
      "metadata": {
        "id": "J6_TIlCrhWmv"
      }
    },
    {
      "cell_type": "code",
      "source": [
        "def permutations(str):\n",
        "    \n",
        "    str_list = list(str)\n",
        "    # Call the helper function\n",
        "    permute(str_list, 0, len(str) - 1)\n",
        "\n",
        "def permute(str_list, left, right):\n",
        "    if left == right:\n",
        "        \n",
        "        print(''.join(str_list))\n",
        "    else:\n",
        "       \n",
        "        for i in range(left, right + 1):\n",
        "           \n",
        "            str_list[left], str_list[i] = str_list[i], str_list[left]\n",
        "            \n",
        "            permute(str_list, left + 1, right)\n",
        "            \n",
        "            str_list[left], str_list[i] = str_list[i], str_list[left]\n",
        "\n",
        "\n",
        "str = \"abb\"\n",
        "permutations(str)\n"
      ],
      "metadata": {
        "colab": {
          "base_uri": "https://localhost:8080/"
        },
        "id": "j_0txO9HhYCn",
        "outputId": "970e4e44-94ed-4455-8e1c-bd90d97e8ebb"
      },
      "execution_count": 7,
      "outputs": [
        {
          "output_type": "stream",
          "name": "stdout",
          "text": [
            "abb\n",
            "abb\n",
            "bab\n",
            "bba\n",
            "bba\n",
            "bab\n"
          ]
        }
      ]
    },
    {
      "cell_type": "markdown",
      "source": [
        "<aside>\n",
        "💡 **Question 8**\n",
        "\n",
        "Given a string, count total number of consonants in it. A consonant is an English alphabet character that is not vowel (a, e, i, o and u). Examples of constants are b, c, d, f, and g.\n",
        "\n",
        "**Examples :**\n",
        "Input : abc de\n",
        "Output : 3\n",
        "There are three consonants b, c and d.\n",
        "\n",
        "Input : geeksforgeeks portal\n",
        "Output : 12\n",
        "\n",
        "</aside>"
      ],
      "metadata": {
        "id": "Bstuhpcfhh3q"
      }
    },
    {
      "cell_type": "code",
      "source": [
        "def count_consonants(str):\n",
        "    consonants = \"bcdfghjklmnpqrstvwxyzBCDFGHJKLMNPQRSTVWXYZ\"\n",
        "    count = 0\n",
        "    for char in str:\n",
        "        if char in consonants:\n",
        "            count += 1\n",
        "    return count\n",
        "\n",
        "\n",
        "str = \"abc de \"\n",
        "num_consonants = count_consonants(str)\n",
        "print(\"Number of consonants:\", num_consonants)\n"
      ],
      "metadata": {
        "colab": {
          "base_uri": "https://localhost:8080/"
        },
        "id": "0gtl0B_3hmqw",
        "outputId": "d8d99ff3-03d1-4d1c-dcff-b69b8d1a9973"
      },
      "execution_count": 15,
      "outputs": [
        {
          "output_type": "stream",
          "name": "stdout",
          "text": [
            "Number of consonants: 3\n"
          ]
        }
      ]
    }
  ]
}