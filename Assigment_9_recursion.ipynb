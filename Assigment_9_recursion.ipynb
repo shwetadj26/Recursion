{
  "nbformat": 4,
  "nbformat_minor": 0,
  "metadata": {
    "colab": {
      "provenance": []
    },
    "kernelspec": {
      "name": "python3",
      "display_name": "Python 3"
    },
    "language_info": {
      "name": "python"
    }
  },
  "cells": [
    {
      "cell_type": "markdown",
      "source": [
        "<aside>\n",
        " **Question 1**\n",
        "\n",
        "Given an integer `n`, return *`true` if it is a power of two. Otherwise, return `false`*.\n",
        "\n",
        "An integer `n` is a power of two, if there exists an integer `x` such that `n == 2x`.\n",
        "\n",
        "**Example 1:**\n",
        "Input: n = 1 \n",
        "\n",
        "Output: true\n",
        "\n",
        "**Example 2:**\n",
        "Input: n = 16 \n",
        "\n",
        "Output: true\n",
        "\n",
        "**Example 3:**\n",
        "Input: n = 3 \n",
        "\n",
        "Output: false\n",
        "\n",
        "</aside>"
      ],
      "metadata": {
        "id": "k97TJT9kbqtj"
      }
    },
    {
      "cell_type": "code",
      "execution_count": 1,
      "metadata": {
        "colab": {
          "base_uri": "https://localhost:8080/"
        },
        "id": "kjOe43hobpK4",
        "outputId": "9f1acce0-fc04-440e-9dda-e5a37f18a02f"
      },
      "outputs": [
        {
          "output_type": "stream",
          "name": "stdout",
          "text": [
            "True\n",
            "True\n",
            "False\n"
          ]
        }
      ],
      "source": [
        "def Power(n):\n",
        "    if n <= 0:\n",
        "        return False\n",
        "    return n & (n - 1) == 0\n",
        "n = 1\n",
        "print(Power(n)) \n",
        "\n",
        "n = 16\n",
        "print(Power(n))  \n",
        "\n",
        "n = 3\n",
        "print(Power(n))  \n"
      ]
    },
    {
      "cell_type": "markdown",
      "source": [
        "<aside>\n",
        "💡 **Question 2**\n",
        "\n",
        "Given a number n, find the sum of the first natural numbers.\n",
        "\n",
        "**Example 1:**\n",
        "\n",
        "Input: n = 3 \n",
        "\n",
        "Output: 6\n",
        "\n",
        "**Example 2:**\n",
        "\n",
        "Input  : 5 \n",
        "\n",
        "Output : 15\n",
        "\n",
        "</aside>"
      ],
      "metadata": {
        "id": "bNizH8b-b5-b"
      }
    },
    {
      "cell_type": "code",
      "source": [
        "def sumNum(n):\n",
        "    return n * (n + 1) // 2\n",
        "\n",
        "\n",
        "n = 5\n",
        "print(sumNum(n))  \n"
      ],
      "metadata": {
        "colab": {
          "base_uri": "https://localhost:8080/"
        },
        "id": "z8cGPzMBb7In",
        "outputId": "d79dfaf4-5e32-41d6-bdf8-de3e03d6bc46"
      },
      "execution_count": 11,
      "outputs": [
        {
          "output_type": "stream",
          "name": "stdout",
          "text": [
            "15\n"
          ]
        }
      ]
    },
    {
      "cell_type": "markdown",
      "source": [
        "<aside>\n",
        "💡 **Question 3**\n",
        "\n",
        "****Given a positive integer, N. Find the factorial of N. \n",
        "\n",
        "**Example 1:**\n",
        "\n",
        "Input: N = 5 \n",
        "\n",
        "Output: 120\n",
        "\n",
        "**Example 2:**\n",
        "\n",
        "Input: N = 4\n",
        "\n",
        "Output: 24\n",
        "\n",
        "</aside>"
      ],
      "metadata": {
        "id": "whXOGivEcEp2"
      }
    },
    {
      "cell_type": "code",
      "source": [
        "def factorial(N):\n",
        "    factorial = 1\n",
        "    for i in range(1, N + 1):\n",
        "        factorial *= i\n",
        "    return factorial\n",
        "\n",
        "N = 4\n",
        "print(factorial(N))  \n"
      ],
      "metadata": {
        "colab": {
          "base_uri": "https://localhost:8080/"
        },
        "id": "pQM3gZ6zcF6S",
        "outputId": "923949e4-4b79-472e-d346-cb2c20d535e8"
      },
      "execution_count": 10,
      "outputs": [
        {
          "output_type": "stream",
          "name": "stdout",
          "text": [
            "24\n"
          ]
        }
      ]
    },
    {
      "cell_type": "markdown",
      "source": [
        "<aside>\n",
        " **Question 4**\n",
        "\n",
        "Given a number N and a power P, the task is to find the exponent of this number raised to the given power, i.e. N^P.\n",
        "\n",
        "**Example 1 :** \n",
        "\n",
        "Input: N = 5, P = 2\n",
        "\n",
        "Output: 25\n",
        "\n",
        "**Example 2 :**\n",
        "Input: N = 2, P = 5\n",
        "\n",
        "Output: 32\n",
        "\n",
        "</aside>"
      ],
      "metadata": {
        "id": "E8ADlDFZcQc0"
      }
    },
    {
      "cell_type": "code",
      "source": [
        "def cal_exponent(N, P):\n",
        "    return N ** P\n",
        "\n",
        "\n",
        "N = 2\n",
        "P = 5\n",
        "print(cal_exponent(N, P))  \n"
      ],
      "metadata": {
        "colab": {
          "base_uri": "https://localhost:8080/"
        },
        "id": "8MFQ8vhycScb",
        "outputId": "202bd4e1-2a41-4b64-8520-cdbde08a3382"
      },
      "execution_count": 9,
      "outputs": [
        {
          "output_type": "stream",
          "name": "stdout",
          "text": [
            "32\n"
          ]
        }
      ]
    },
    {
      "cell_type": "markdown",
      "source": [
        "<aside>\n",
        "**Question 5**\n",
        "\n",
        "Given an array of integers **arr**, the task is to find maximum element of that array using recursion.\n",
        "\n",
        "**Example 1:**\n",
        "\n",
        "Input: arr = {1, 4, 3, -5, -4, 8, 6};\n",
        "Output: 8\n",
        "\n",
        "**Example 2:**\n",
        "\n",
        "Input: arr = {1, 4, 45, 6, 10, -8};\n",
        "Output: 45\n",
        "\n",
        "</aside>"
      ],
      "metadata": {
        "id": "deQedHAEcZbO"
      }
    },
    {
      "cell_type": "code",
      "source": [
        "def find_max(arr):\n",
        "    \n",
        "    if len(arr) == 1:\n",
        "        return arr[0]\n",
        "\n",
        "    \n",
        "    mid = len(arr) // 2\n",
        "    left_max = find_max(arr[:mid])\n",
        "    right_max = find_max(arr[mid:])\n",
        "\n",
        "    return max(left_max, right_max)\n",
        "\n",
        "\n",
        "arr = [1, 4, 45, 6, 10, -8]\n",
        "print(find_max(arr)) \n"
      ],
      "metadata": {
        "colab": {
          "base_uri": "https://localhost:8080/"
        },
        "id": "urTVgEcCcfiv",
        "outputId": "5be8429c-900a-4d30-9dd6-4a8781f9b024"
      },
      "execution_count": 12,
      "outputs": [
        {
          "output_type": "stream",
          "name": "stdout",
          "text": [
            "45\n"
          ]
        }
      ]
    },
    {
      "cell_type": "markdown",
      "source": [
        "<aside>\n",
        " **Question 6**\n",
        "\n",
        "Given first term (a), common difference (d) and a integer N of the Arithmetic Progression series, the task is to find Nth term of the series.\n",
        "\n",
        "**Example 1:**\n",
        "\n",
        "Input : a = 2 d = 1 N = 5\n",
        "Output : 6\n",
        "The 5th term of the series is : 6\n",
        "\n",
        "**Example 2:**\n",
        "\n",
        "Input : a = 5 d = 2 N = 10\n",
        "Output : 23\n",
        "The 10th term of the series is : 23\n",
        "\n",
        "</aside>"
      ],
      "metadata": {
        "id": "7qiDwkwTcppC"
      }
    },
    {
      "cell_type": "code",
      "source": [
        "def nth_term(a, d, n):\n",
        "    return a + (n - 1) * d\n",
        "\n",
        "\n",
        "a = 5\n",
        "d = 2\n",
        "n = 10\n",
        "print(nth_term(a, d, n))   \n"
      ],
      "metadata": {
        "colab": {
          "base_uri": "https://localhost:8080/"
        },
        "id": "PnnZcOoDcsW3",
        "outputId": "361664b9-6bcb-41ae-896f-5edfb7ba5d3f"
      },
      "execution_count": 13,
      "outputs": [
        {
          "output_type": "stream",
          "name": "stdout",
          "text": [
            "23\n"
          ]
        }
      ]
    },
    {
      "cell_type": "markdown",
      "source": [
        "<aside>\n",
        " **Question 7**\n",
        "\n",
        "Given a string S, the task is to write a program to print all permutations of a given string.\n",
        "\n",
        "**Example 1:**\n",
        "\n",
        "***Input:***\n",
        "\n",
        "*S = “ABC”*\n",
        "\n",
        "***Output:***\n",
        "\n",
        "*“ABC”, “ACB”, “BAC”, “BCA”, “CBA”, “CAB”*\n",
        "\n",
        "**Example 2:**\n",
        "\n",
        "***Input:***\n",
        "\n",
        "*S = “XY”*\n",
        "\n",
        "***Output:***\n",
        "\n",
        "*“XY”, “YX”*\n",
        "\n",
        "</aside>"
      ],
      "metadata": {
        "id": "x1VU6bVPc007"
      }
    },
    {
      "cell_type": "code",
      "source": [
        "def permute_str(s, left, right):\n",
        "    if left == right:\n",
        "        print(''.join(s))\n",
        "    else:\n",
        "        for i in range(left, right + 1):\n",
        "            s[left], s[i] = s[i], s[left]  \n",
        "            permute_str(s, left + 1, right)  \n",
        "            s[left], s[i] = s[i], s[left]  \n",
        "\n",
        "def print_permutations(string):\n",
        "    s = list(string)\n",
        "    n = len(s)\n",
        "    permute_str(s, 0, n - 1)\n",
        "\n",
        "\n",
        "print_permutations(\"ABC\")  \n",
        "\n"
      ],
      "metadata": {
        "colab": {
          "base_uri": "https://localhost:8080/"
        },
        "id": "5AKD29QQc7Ab",
        "outputId": "93c8bfeb-9375-4ed7-a9dc-7d47c5da77e1"
      },
      "execution_count": 14,
      "outputs": [
        {
          "output_type": "stream",
          "name": "stdout",
          "text": [
            "ABC\n",
            "ACB\n",
            "BAC\n",
            "BCA\n",
            "CBA\n",
            "CAB\n"
          ]
        }
      ]
    },
    {
      "cell_type": "markdown",
      "source": [
        "<aside>\n",
        "**Question 8**\n",
        "\n",
        "Given an array, find a product of all array elements.\n",
        "\n",
        "**Example 1:**\n",
        "\n",
        "Input  : arr[] = {1, 2, 3, 4, 5}\n",
        "Output : 120\n",
        "**Example 2:**\n",
        "\n",
        "Input  : arr[] = {1, 6, 3}\n",
        "Output : 18\n",
        "\n",
        "</aside>"
      ],
      "metadata": {
        "id": "BhsdHNaLdEcs"
      }
    },
    {
      "cell_type": "code",
      "source": [
        "def product_of_array(arr):\n",
        "    product = 1\n",
        "    for num in arr:\n",
        "        product *= num\n",
        "    return product\n",
        "\n",
        "\n",
        "\n",
        "arr2 = [1, 6, 3]\n",
        "print(product_of_array(arr2))  # Output: 18\n"
      ],
      "metadata": {
        "colab": {
          "base_uri": "https://localhost:8080/"
        },
        "id": "JWWDDcvwc60T",
        "outputId": "1926847a-5153-4a50-949d-ee0dfd3f569e"
      },
      "execution_count": 15,
      "outputs": [
        {
          "output_type": "stream",
          "name": "stdout",
          "text": [
            "18\n"
          ]
        }
      ]
    }
  ]
}